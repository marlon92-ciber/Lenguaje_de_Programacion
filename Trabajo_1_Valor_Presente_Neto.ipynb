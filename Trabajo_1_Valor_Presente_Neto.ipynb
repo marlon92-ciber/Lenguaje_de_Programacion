{
  "nbformat": 4,
  "nbformat_minor": 0,
  "metadata": {
    "colab": {
      "provenance": []
    },
    "kernelspec": {
      "name": "python3",
      "display_name": "Python 3"
    },
    "language_info": {
      "name": "python"
    }
  },
  "cells": [
    {
      "cell_type": "code",
      "execution_count": null,
      "metadata": {
        "id": "5MVMmfRVe-oU"
      },
      "outputs": [],
      "source": []
    },
    {
      "cell_type": "markdown",
      "source": [
        "# Valor Presente Neto (VPN)\n",
        "\n",
        "El valor presente neto nos ayuda a contemplar la posibildad de invertir parte de nuestro capital en un negocio o proyecto, lo normal es que estimemos el comportamiento de una seria de variables a futuro que nos mostrara  la conveniencia previa al invertir, o por lo contrario nos muestre las desventajas de comprometer nuestro recurso en el mismo.\n",
        "\n",
        "## Formula Del Valor Presente Neto (VPN)\n",
        "\n",
        "La formula del VPN se expresa de la siguiente manera:\n",
        "\n",
        "\\[\n",
        "$$\n",
        "VPN = \\sum_{t=0}^{n} \\ frac{C_t}{(1+r)^t} - C_0\n",
        "$$\n",
        "\n",
        "\\]\n",
        "\n",
        "Donde:\n",
        "- \\(C_t\\) Es el flujo de caja en el tiempo \\(t\\).\n",
        "- \\(r\\) Es la tasa del descuento.\n",
        "- \\(n\\) Es el numero total de peridos.\n",
        "- \\(C_0\\) Es la inversion inicial.\n",
        "\n",
        "## Interpretacion\n",
        "\n",
        "-Si \\(VPN > 0\\), la inversion es RENTABLE.\n",
        "\n",
        "-Si \\(VPN < 0\\), la inversion NO RENTABLE.\n",
        "\n",
        "-Si \\(VPN = 0\\), la inversion no genera ni perdidas ni ganancias.\n",
        "\n",
        "## Enlace Util\n",
        "\n",
        "Para obtener mas informacion sobre el Valor Presente Neto, puedes consulta el siguiente\n",
        "\n",
        "[Enlace](https://revistas.ucp.edu.co/index.php/paginas/article/view/2399/2215).\n",
        "\n",
        "# Descripcion del Proyecto\n",
        "\n",
        "La empresa Café Andino S.A.S., está evaluando comprar una nueva tostadora industrial para ampliar su producción.\n",
        "\n",
        "La inversión inicial que tendría que hacer hoy es de $12.000\n",
        " . A cambio, la máquina generará flujos de caja de 4.500\n",
        " al final de cada año durante cuatro (4) años. La empresa considera que su tasa de descuento es del 8%, porque ese es su costo de capital (lo que “exigen” sus inversionistas como rentabilidad mínima).\n",
        "\n",
        "\n",
        "\n",
        "\n"
      ],
      "metadata": {
        "id": "BJx6O-Z45hMs"
      }
    },
    {
      "cell_type": "code",
      "source": [
        "Inversion_Inicial = 12000\n",
        "Flujo_ano_1 = 4500\n",
        "Flujo_ano_2 = 4500\n",
        "Flujo_ano_3 = 4500\n",
        "Flujo_ano_4 = 4500\n",
        "\n",
        "Tasa_Descuento = 0.08\n",
        "\n",
        "VPN = (Flujo_ano_1 / (1 + Tasa_Descuento)**1) + \\\n",
        "      (Flujo_ano_2 / (1 + Tasa_Descuento)**2) + \\\n",
        "      (Flujo_ano_3 / (1 + Tasa_Descuento)**3) + \\\n",
        "      (Flujo_ano_4 / (1 + Tasa_Descuento)**4) - Inversion_Inicial\n",
        "\n",
        "print (VPN)\n",
        "\n",
        "if VPN > 0:\n",
        "    print (\"El proyecto es RENTABLE, ya que el VPN es Positivo.\")\n",
        "\n",
        "else:\n",
        "    print (\"El Proyecto NO es RENTABLE, ya que el VPN es Negativo.\")"
      ],
      "metadata": {
        "colab": {
          "base_uri": "https://localhost:8080/"
        },
        "id": "hq9HYFb0rSay",
        "outputId": "0795ac8c-662b-4c7b-ebd5-34965669d93e"
      },
      "execution_count": 2,
      "outputs": [
        {
          "output_type": "stream",
          "name": "stdout",
          "text": [
            "2904.570780199494\n",
            "El proyecto es RENTABLE, ya que el VPN es Positivo.\n"
          ]
        }
      ]
    }
  ]
}